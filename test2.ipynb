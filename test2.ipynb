{
 "cells": [
  {
   "cell_type": "code",
   "execution_count": 110,
   "metadata": {
    "collapsed": false
   },
   "outputs": [
    {
     "name": "stdout",
     "output_type": "stream",
     "text": [
      "Input Array of works : [4,3,3]\n"
     ]
    }
   ],
   "source": [
    "workArrStr = input(\"Input Array of works : \")\n",
    "workArr = list(map(int, workArrStr.replace(\"[\", \"\").replace(\"]\", \"\").split(\",\")))"
   ]
  },
  {
   "cell_type": "code",
   "execution_count": 111,
   "metadata": {
    "collapsed": false
   },
   "outputs": [
    {
     "name": "stdout",
     "output_type": "stream",
     "text": [
      "Input remained work time : 4\n"
     ]
    }
   ],
   "source": [
    "remainTime = input(\"Input remained work time : \")\n",
    "remainTime = int(remainTime)"
   ]
  },
  {
   "cell_type": "code",
   "execution_count": 112,
   "metadata": {
    "collapsed": false
   },
   "outputs": [],
   "source": [
    "import numpy as np\n",
    "\n",
    "def checkFatigue(arr, time) : \n",
    "    for _ in range(time) :\n",
    "        #print(arr)\n",
    "        if arr[np.argmax(arr)] > 0 : \n",
    "            arr[np.argmax(arr)] -= 1\n",
    "        if sum(arr) == 0 :\n",
    "            return 0\n",
    "    \n",
    "    return sumOfSqr(arr)\n",
    "\n",
    "def sumOfSqr(workArr) :\n",
    "    sqrArr = np.square(workArr)\n",
    "    return sum(sqrArr)"
   ]
  },
  {
   "cell_type": "code",
   "execution_count": 113,
   "metadata": {
    "collapsed": false
   },
   "outputs": [
    {
     "name": "stdout",
     "output_type": "stream",
     "text": [
      "12\n"
     ]
    }
   ],
   "source": [
    "print(checkFatigue(workArr, remainTime))"
   ]
  },
  {
   "cell_type": "code",
   "execution_count": null,
   "metadata": {
    "collapsed": true
   },
   "outputs": [],
   "source": []
  }
 ],
 "metadata": {
  "kernelspec": {
   "display_name": "Python 3",
   "language": "python",
   "name": "python3"
  },
  "language_info": {
   "codemirror_mode": {
    "name": "ipython",
    "version": 3
   },
   "file_extension": ".py",
   "mimetype": "text/x-python",
   "name": "python",
   "nbconvert_exporter": "python",
   "pygments_lexer": "ipython3",
   "version": "3.6.0"
  }
 },
 "nbformat": 4,
 "nbformat_minor": 2
}
