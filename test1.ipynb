{
 "cells": [
  {
   "cell_type": "code",
   "execution_count": null,
   "metadata": {
    "collapsed": false
   },
   "outputs": [],
   "source": [
    "teststr = input(\"Input String with () : \")"
   ]
  },
  {
   "cell_type": "code",
   "execution_count": null,
   "metadata": {
    "collapsed": false
   },
   "outputs": [],
   "source": [
    "def checkstr(str) :\n",
    "    if str.startswith(')') or str.endswith('(') :  \n",
    "        return False\n",
    "    else :  \n",
    "        cntfrt = 0\n",
    "        cntlst = 0\n",
    "        for i in range(len(str)) : \n",
    "            if(str[i] == '(') : cntfrt += 1\n",
    "            elif(str[i] == ')') : \n",
    "                cntlst += 1\n",
    "                if cntlst > cntfrt : return False\n",
    "            else : return False\n",
    "\n",
    "        if cntfrt == cntlst : \n",
    "            return True"
   ]
  },
  {
   "cell_type": "code",
   "execution_count": null,
   "metadata": {
    "collapsed": false
   },
   "outputs": [],
   "source": [
    "checkstr(teststr)"
   ]
  },
  {
   "cell_type": "code",
   "execution_count": null,
   "metadata": {
    "collapsed": true
   },
   "outputs": [],
   "source": []
  }
 ],
 "metadata": {
  "kernelspec": {
   "display_name": "Python 3",
   "language": "python",
   "name": "python3"
  },
  "language_info": {
   "codemirror_mode": {
    "name": "ipython",
    "version": 3
   },
   "file_extension": ".py",
   "mimetype": "text/x-python",
   "name": "python",
   "nbconvert_exporter": "python",
   "pygments_lexer": "ipython3",
   "version": "3.6.0"
  }
 },
 "nbformat": 4,
 "nbformat_minor": 2
}
